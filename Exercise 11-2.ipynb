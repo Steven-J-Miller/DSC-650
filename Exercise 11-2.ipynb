{
 "cells": [
  {
   "cell_type": "markdown",
   "metadata": {},
   "source": [
    "## Steven Miller\n",
    "## DSC 650\n",
    "## 2020-02-18\n",
    "\n",
    "### 11.2 Programming Exercise: Movie Recommendation Engine"
   ]
  },
  {
   "cell_type": "markdown",
   "metadata": {},
   "source": [
    "a. Prepare Data\n",
    "\n",
    "Load the data from the ratings.csv and movies.csv files and combine them on movieId. The resultant data set should contain all of the user ratings and include movie titles. The schema should look something like this."
   ]
  },
  {
   "cell_type": "code",
   "execution_count": 1,
   "metadata": {},
   "outputs": [],
   "source": [
    "from pyspark.sql import SparkSession\n",
    "\n",
    "spark = SparkSession.builder.appName('Exercise12').getOrCreate()\n",
    "movies = spark.read.load('movielens/movies.csv', format='csv', inferSchema=True, header=True)\n",
    "ratings = spark.read.load('movielens/ratings.csv', format='csv', inferSchema=True, header=True)"
   ]
  },
  {
   "cell_type": "code",
   "execution_count": 2,
   "metadata": {},
   "outputs": [],
   "source": [
    "df = movies.join(ratings, 'movieId', 'inner')"
   ]
  },
  {
   "cell_type": "code",
   "execution_count": 3,
   "metadata": {},
   "outputs": [
    {
     "name": "stdout",
     "output_type": "stream",
     "text": [
      "+-------+--------------------+--------------------+------+------+---------+\n",
      "|movieId|               title|              genres|userId|rating|timestamp|\n",
      "+-------+--------------------+--------------------+------+------+---------+\n",
      "|      1|    Toy Story (1995)|Adventure|Animati...|     1|   4.0|964982703|\n",
      "|      3|Grumpier Old Men ...|      Comedy|Romance|     1|   4.0|964981247|\n",
      "|      6|         Heat (1995)|Action|Crime|Thri...|     1|   4.0|964982224|\n",
      "|     47|Seven (a.k.a. Se7...|    Mystery|Thriller|     1|   5.0|964983815|\n",
      "|     50|Usual Suspects, T...|Crime|Mystery|Thr...|     1|   5.0|964982931|\n",
      "|     70|From Dusk Till Da...|Action|Comedy|Hor...|     1|   3.0|964982400|\n",
      "|    101|Bottle Rocket (1996)|Adventure|Comedy|...|     1|   5.0|964980868|\n",
      "|    110|   Braveheart (1995)|    Action|Drama|War|     1|   4.0|964982176|\n",
      "|    151|      Rob Roy (1995)|Action|Drama|Roma...|     1|   5.0|964984041|\n",
      "|    157|Canadian Bacon (1...|          Comedy|War|     1|   5.0|964984100|\n",
      "|    163|    Desperado (1995)|Action|Romance|We...|     1|   5.0|964983650|\n",
      "|    216|Billy Madison (1995)|              Comedy|     1|   5.0|964981208|\n",
      "|    223|       Clerks (1994)|              Comedy|     1|   3.0|964980985|\n",
      "|    231|Dumb & Dumber (Du...|    Adventure|Comedy|     1|   5.0|964981179|\n",
      "|    235|      Ed Wood (1994)|        Comedy|Drama|     1|   4.0|964980908|\n",
      "|    260|Star Wars: Episod...|Action|Adventure|...|     1|   5.0|964981680|\n",
      "|    296| Pulp Fiction (1994)|Comedy|Crime|Dram...|     1|   3.0|964982967|\n",
      "|    316|     Stargate (1994)|Action|Adventure|...|     1|   3.0|964982310|\n",
      "|    333|    Tommy Boy (1995)|              Comedy|     1|   5.0|964981179|\n",
      "|    349|Clear and Present...|Action|Crime|Dram...|     1|   4.0|964982563|\n",
      "+-------+--------------------+--------------------+------+------+---------+\n",
      "only showing top 20 rows\n",
      "\n"
     ]
    }
   ],
   "source": [
    "df.show()"
   ]
  },
  {
   "cell_type": "markdown",
   "metadata": {},
   "source": [
    "b. Train Recommender\n",
    "\n",
    "Using the data you prepared in the last step, create a movie recommendation model using collaborative filtering. Spark’s collaborative filtering documentation provides a template for building and testing this model.\n",
    "\n",
    "Before you train the recommendation model, split the data into a training dataset and a testing dataset using the randomSplit dataframe method. Use 80% of your data for training and 20% for testing.\n",
    "\n",
    "After fitting your model using the training dataset, calculate the predictions on the test dataset and use the RegressionEvaluator to calculate the root-mean-square error of the model.\n",
    "\n",
    "As a reminder, Spark’s collaborative filtering documentation will be helpful in completing this task."
   ]
  },
  {
   "cell_type": "code",
   "execution_count": 4,
   "metadata": {},
   "outputs": [],
   "source": [
    "from pyspark.ml.evaluation import RegressionEvaluator\n",
    "from pyspark.ml.recommendation import ALS\n",
    "from pyspark.sql import Row\n",
    "\n",
    "(training, test) = df.randomSplit([0.8, 0.2])\n",
    "\n",
    "als = ALS(maxIter=5, regParam=0.01, userCol=\"userId\", itemCol=\"movieId\", ratingCol=\"rating\",\n",
    "          coldStartStrategy=\"drop\")\n",
    "model = als.fit(training)"
   ]
  },
  {
   "cell_type": "code",
   "execution_count": 5,
   "metadata": {},
   "outputs": [
    {
     "name": "stdout",
     "output_type": "stream",
     "text": [
      "Root-mean-square error = 1.0790394185889431\n"
     ]
    }
   ],
   "source": [
    "predictions = model.transform(test)\n",
    "evaluator = RegressionEvaluator(metricName=\"rmse\", labelCol=\"rating\",\n",
    "                                predictionCol=\"prediction\")\n",
    "rmse = evaluator.evaluate(predictions)\n",
    "print(\"Root-mean-square error = \" + str(rmse))"
   ]
  },
  {
   "cell_type": "markdown",
   "metadata": {},
   "source": [
    "c. Generate top 10 movie recommendations\n",
    "\n",
    "Using the recommendation model, generate the top ten recommendations for each user. Using the show method, print the recommendations for the user IDs, 127, 151, and 300. You should not truncate the results and so should call the show method like this recommendations_127.show(truncate=False)."
   ]
  },
  {
   "cell_type": "code",
   "execution_count": 6,
   "metadata": {},
   "outputs": [],
   "source": [
    "from pyspark.sql.functions import col\n",
    "\n",
    "user_ids = [127,151,300]\n",
    "users = ratings.select(als.getUserCol()).distinct().where(col('userId').isin(user_ids))\n",
    "userSubsetRecs = model.recommendForUserSubset(users, 10)"
   ]
  },
  {
   "cell_type": "code",
   "execution_count": 7,
   "metadata": {},
   "outputs": [
    {
     "name": "stdout",
     "output_type": "stream",
     "text": [
      "+------+-----------------------------------------------------------------------------------------------------------------------------------------------------------------------------------------------+\n",
      "|userId|recommendations                                                                                                                                                                                |\n",
      "+------+-----------------------------------------------------------------------------------------------------------------------------------------------------------------------------------------------+\n",
      "|300   |[[89118, 7.4159837], [1251, 7.3640213], [49932, 7.159583], [91077, 6.921607], [446, 6.8803563], [1227, 6.8485675], [1211, 6.7971067], [86320, 6.782563], [3266, 6.7721453], [68073, 6.7703805]]|\n",
      "|127   |[[3040, 12.728895], [4450, 12.044945], [7169, 11.58663], [7155, 11.300601], [55052, 10.821467], [33672, 10.620742], [79185, 10.263626], [72, 10.216737], [2384, 10.184221], [3633, 9.966223]]  |\n",
      "|151   |[[74946, 6.6187735], [1962, 6.5909133], [161582, 6.4367013], [37830, 6.4321356], [2072, 6.3344426], [4873, 6.3291674], [2517, 6.2506394], [851, 6.184729], [2772, 6.0671186], [4989, 6.061808]]|\n",
      "+------+-----------------------------------------------------------------------------------------------------------------------------------------------------------------------------------------------+\n",
      "\n"
     ]
    }
   ],
   "source": [
    "userSubsetRecs.show(truncate=False)"
   ]
  },
  {
   "cell_type": "code",
   "execution_count": 8,
   "metadata": {},
   "outputs": [
    {
     "name": "stdout",
     "output_type": "stream",
     "text": [
      "\n",
      "Recommendations for user 300\n",
      "\n",
      "Skin I Live In, The (La piel que habito) (2011)   \t7.416\n",
      "8 1/2 (8½) (1963)                                 \t7.364\n",
      "Inland Empire (2006)                              \t7.160\n",
      "Descendants, The (2011)                           \t6.922\n",
      "Farewell My Concubine (Ba wang bie ji) (1993)     \t6.880\n",
      "Once Upon a Time in America (1984)                \t6.849\n",
      "Wings of Desire (Himmel über Berlin, Der) (1987)  \t6.797\n",
      "Melancholia (2011)                                \t6.783\n",
      "Man Bites Dog (C'est arrivé près de chez vous) (1992)\t6.772\n",
      "Pirate Radio (2009)                               \t6.770\n",
      "\n",
      "Recommendations for user 127\n",
      "\n",
      "Meatballs (1979)                                  \t12.729\n",
      "Bully (2001)                                      \t12.045\n",
      "Chasing Liberty (2004)                            \t11.587\n",
      "Calendar Girls (2003)                             \t11.301\n",
      "Atonement (2007)                                  \t10.821\n",
      "Lords of Dogtown (2005)                           \t10.621\n",
      "Knight and Day (2010)                             \t10.264\n",
      "Kicking and Screaming (1995)                      \t10.217\n",
      "Babe: Pig in the City (1998)                      \t10.184\n",
      "On Her Majesty's Secret Service (1969)            \t9.966\n",
      "\n",
      "Recommendations for user 151\n",
      "\n",
      "She's Out of My League (2010)                     \t6.619\n",
      "Driving Miss Daisy (1989)                         \t6.591\n",
      "Hell or High Water (2016)                         \t6.437\n",
      "Final Fantasy VII: Advent Children (2004)         \t6.432\n",
      "'burbs, The (1989)                                \t6.334\n",
      "Waking Life (2001)                                \t6.329\n",
      "Christine (1983)                                  \t6.251\n",
      "Basquiat (1996)                                   \t6.185\n",
      "Detroit Rock City (1999)                          \t6.067\n",
      "How High (2001)                                   \t6.062\n"
     ]
    }
   ],
   "source": [
    "for user_row in userSubsetRecs.collect():\n",
    "    recommendations = []\n",
    "    \n",
    "    for rec in user_row['recommendations']:\n",
    "        name = movies.select('title').where(movies.movieId==rec[0])\n",
    "        recommendations.append({'name':name.collect()[0][0], 'rating': rec[1]})\n",
    "\n",
    "    print(f'\\nRecommendations for user {user_row[0]}\\n')\n",
    "    [print(f\"{row['name']:<50}\\t{round(row['rating'],3):.3f}\") for row in recommendations]"
   ]
  }
 ],
 "metadata": {
  "kernelspec": {
   "display_name": "Python 3",
   "language": "python",
   "name": "python3"
  },
  "language_info": {
   "codemirror_mode": {
    "name": "ipython",
    "version": 3
   },
   "file_extension": ".py",
   "mimetype": "text/x-python",
   "name": "python",
   "nbconvert_exporter": "python",
   "pygments_lexer": "ipython3",
   "version": "3.7.4"
  }
 },
 "nbformat": 4,
 "nbformat_minor": 4
}
