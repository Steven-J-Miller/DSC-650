{
 "cells": [
  {
   "cell_type": "markdown",
   "metadata": {},
   "source": [
    "## Steven Miller\n",
    "### DSC 650 Winter 2019\n",
    "### 2019-12-18\n",
    "\n",
    "#### Exercise 4.2: Joining Datasets and Performing Aggregations on Grouped Data"
   ]
  },
  {
   "cell_type": "code",
   "execution_count": 1,
   "metadata": {},
   "outputs": [],
   "source": [
    "from pyspark.sql import SparkSession\n",
    "from pyspark.sql.functions import *\n",
    "\n",
    "spark = SparkSession.builder.appName('Exercise').getOrCreate()"
   ]
  },
  {
   "cell_type": "code",
   "execution_count": 2,
   "metadata": {},
   "outputs": [
    {
     "name": "stdout",
     "output_type": "stream",
     "text": [
      "root\n",
      " |-- origin_airport_code: string (nullable = true)\n",
      " |-- destination_airport_code: string (nullable = true)\n",
      " |-- origin_city: string (nullable = true)\n",
      " |-- destination_city: string (nullable = true)\n",
      " |-- passengers: long (nullable = true)\n",
      " |-- seats: long (nullable = true)\n",
      " |-- flights: long (nullable = true)\n",
      " |-- distance: double (nullable = true)\n",
      " |-- origin_population: long (nullable = true)\n",
      " |-- destination_population: long (nullable = true)\n",
      " |-- flight_year: long (nullable = true)\n",
      " |-- flight_month: long (nullable = true)\n",
      " |-- __index_level_0__: long (nullable = true)\n",
      "\n",
      "root\n",
      " |-- ident: string (nullable = true)\n",
      " |-- type: string (nullable = true)\n",
      " |-- name: string (nullable = true)\n",
      " |-- elevation_ft: double (nullable = true)\n",
      " |-- continent: string (nullable = true)\n",
      " |-- iso_country: string (nullable = true)\n",
      " |-- iso_region: string (nullable = true)\n",
      " |-- municipality: string (nullable = true)\n",
      " |-- gps_code: string (nullable = true)\n",
      " |-- iata_code: string (nullable = true)\n",
      " |-- local_code: string (nullable = true)\n",
      " |-- coordinates: string (nullable = true)\n",
      "\n"
     ]
    }
   ],
   "source": [
    "df_flights = spark.read.parquet('domestic-flights/flights.parquet')\n",
    "df_airport_codes = spark.read.load('airport-codes/airport-codes.csv', format='csv', sep=',', inferSchema=True, header=True)\n",
    "df_flights.printSchema()\n",
    "df_airport_codes.printSchema()"
   ]
  },
  {
   "cell_type": "markdown",
   "metadata": {},
   "source": [
    "**a. Join the Data**\n",
    "\n",
    "Join the flight data to airport codes data by matching the IATA code of the originating flight to the IATA code in the airport codes file. Note that the airport codes file may not contain IATA codes for all of the origin and destination flights in the flight data. We still want information on those flights even if we cannot match it to a value in the airport codes file. This means you will want to use a left join instead of the default inner join.\n",
    "\n",
    "Print the schema of the joined dataframe."
   ]
  },
  {
   "cell_type": "code",
   "execution_count": 3,
   "metadata": {},
   "outputs": [
    {
     "name": "stdout",
     "output_type": "stream",
     "text": [
      "root\n",
      " |-- origin_airport_code: string (nullable = true)\n",
      " |-- destination_airport_code: string (nullable = true)\n",
      " |-- origin_city: string (nullable = true)\n",
      " |-- destination_city: string (nullable = true)\n",
      " |-- passengers: long (nullable = true)\n",
      " |-- seats: long (nullable = true)\n",
      " |-- flights: long (nullable = true)\n",
      " |-- distance: double (nullable = true)\n",
      " |-- origin_population: long (nullable = true)\n",
      " |-- destination_population: long (nullable = true)\n",
      " |-- flight_year: long (nullable = true)\n",
      " |-- flight_month: long (nullable = true)\n",
      " |-- __index_level_0__: long (nullable = true)\n",
      " |-- ident: string (nullable = true)\n",
      " |-- type: string (nullable = true)\n",
      " |-- name: string (nullable = true)\n",
      " |-- elevation_ft: double (nullable = true)\n",
      " |-- continent: string (nullable = true)\n",
      " |-- iso_country: string (nullable = true)\n",
      " |-- iso_region: string (nullable = true)\n",
      " |-- municipality: string (nullable = true)\n",
      " |-- gps_code: string (nullable = true)\n",
      " |-- iata_code: string (nullable = true)\n",
      " |-- local_code: string (nullable = true)\n",
      " |-- coordinates: string (nullable = true)\n",
      "\n"
     ]
    }
   ],
   "source": [
    "joined_df = df_flights.join(df_airport_codes, df_flights.origin_airport_code==df_airport_codes.iata_code)\n",
    "joined_df.printSchema()"
   ]
  },
  {
   "cell_type": "markdown",
   "metadata": {},
   "source": [
    "**b. Rename and Remove Columns**\n",
    "\n",
    "Next, we want to rename some of the joined columns and remove unneeded columns. Remove the following columns from the joined dataframe.\n",
    "\n",
    "* \\_\\_index_level_0\\_\\_\n",
    "* ident\n",
    "* local_code\n",
    "* continent\n",
    "* iso_country\n",
    "* iata_code\n",
    "\n",
    "Rename the following columns.\n",
    "\n",
    "* type: origin_airport_type\n",
    "* name: origin_airport_name\n",
    "* elevation_ft: origin_airport_elevation_ft\n",
    "* iso_region: origin_airport_region\n",
    "* municipality: origin_airport_municipality\n",
    "* gps_code: origin_airport_gps_code\n",
    "* coordinates: origin_airport_coordinates"
   ]
  },
  {
   "cell_type": "code",
   "execution_count": 4,
   "metadata": {},
   "outputs": [],
   "source": [
    "joined_df = joined_df.drop(*['__index_level_0__', 'ident', 'local_code', 'continent', 'iso_country', 'iata_code'])"
   ]
  },
  {
   "cell_type": "code",
   "execution_count": 5,
   "metadata": {},
   "outputs": [],
   "source": [
    "joined_df = (joined_df\n",
    "             .withColumnRenamed('type','origin_airport_type')\n",
    "             .withColumnRenamed('name', 'origin_airport_name')\n",
    "             .withColumnRenamed('elevation_ft', 'origin_airport_elevation_ft')\n",
    "             .withColumnRenamed('iso_region', 'origin_airport_region')\n",
    "             .withColumnRenamed('municipality', 'origin_airport_municipality')\n",
    "             .withColumnRenamed('gps_code', 'origin_airport_gps_code')\n",
    "             .withColumnRenamed('coordinates', 'origin_airport_coordinates'))"
   ]
  },
  {
   "cell_type": "code",
   "execution_count": 6,
   "metadata": {},
   "outputs": [
    {
     "name": "stdout",
     "output_type": "stream",
     "text": [
      "root\n",
      " |-- origin_airport_code: string (nullable = true)\n",
      " |-- destination_airport_code: string (nullable = true)\n",
      " |-- origin_city: string (nullable = true)\n",
      " |-- destination_city: string (nullable = true)\n",
      " |-- passengers: long (nullable = true)\n",
      " |-- seats: long (nullable = true)\n",
      " |-- flights: long (nullable = true)\n",
      " |-- distance: double (nullable = true)\n",
      " |-- origin_population: long (nullable = true)\n",
      " |-- destination_population: long (nullable = true)\n",
      " |-- flight_year: long (nullable = true)\n",
      " |-- flight_month: long (nullable = true)\n",
      " |-- origin_airport_type: string (nullable = true)\n",
      " |-- origin_airport_name: string (nullable = true)\n",
      " |-- origin_airport_elevation_ft: double (nullable = true)\n",
      " |-- origin_airport_region: string (nullable = true)\n",
      " |-- origin_airport_municipality: string (nullable = true)\n",
      " |-- origin_airport_gps_code: string (nullable = true)\n",
      " |-- origin_airport_coordinates: string (nullable = true)\n",
      "\n"
     ]
    }
   ],
   "source": [
    "joined_df.printSchema()"
   ]
  },
  {
   "cell_type": "markdown",
   "metadata": {},
   "source": [
    "**c. Join to Destination Airport**\n",
    "\n",
    "Repeat parts a and b joining the airport codes file to the destination airport instead of the origin airport. Drop the same columns and rename the same columns using the prefix destination_airport_ instead of origin_airport_. Print the schema of the resultant dataframe. The final schema and dataframe should contain the added information (name, region, coordinate, …) for the destination and origin airports."
   ]
  },
  {
   "cell_type": "code",
   "execution_count": 7,
   "metadata": {},
   "outputs": [
    {
     "name": "stdout",
     "output_type": "stream",
     "text": [
      "root\n",
      " |-- origin_airport_code: string (nullable = true)\n",
      " |-- destination_airport_code: string (nullable = true)\n",
      " |-- origin_city: string (nullable = true)\n",
      " |-- destination_city: string (nullable = true)\n",
      " |-- passengers: long (nullable = true)\n",
      " |-- seats: long (nullable = true)\n",
      " |-- flights: long (nullable = true)\n",
      " |-- distance: double (nullable = true)\n",
      " |-- origin_population: long (nullable = true)\n",
      " |-- destination_population: long (nullable = true)\n",
      " |-- flight_year: long (nullable = true)\n",
      " |-- flight_month: long (nullable = true)\n",
      " |-- origin_airport_type: string (nullable = true)\n",
      " |-- origin_airport_name: string (nullable = true)\n",
      " |-- origin_airport_elevation_ft: double (nullable = true)\n",
      " |-- origin_airport_region: string (nullable = true)\n",
      " |-- origin_airport_municipality: string (nullable = true)\n",
      " |-- origin_airport_gps_code: string (nullable = true)\n",
      " |-- origin_airport_coordinates: string (nullable = true)\n",
      " |-- destination_airport_type: string (nullable = true)\n",
      " |-- destination_airport_name: string (nullable = true)\n",
      " |-- destination_airport_elevation_ft: double (nullable = true)\n",
      " |-- destination_airport_region: string (nullable = true)\n",
      " |-- destination_airport_municipality: string (nullable = true)\n",
      " |-- destination_airport_gps_code: string (nullable = true)\n",
      " |-- destination_airport_coordinates: string (nullable = true)\n",
      "\n"
     ]
    }
   ],
   "source": [
    "joined_df = joined_df.join(df_airport_codes, df_flights.destination_airport_code==df_airport_codes.iata_code)\n",
    "joined_df = joined_df.drop(*['__index_level_0__', 'ident', 'local_code', 'continent', 'iso_country', 'iata_code'])\n",
    "joined_df = (joined_df\n",
    "             .withColumnRenamed('type','destination_airport_type')\n",
    "             .withColumnRenamed('name', 'destination_airport_name')\n",
    "             .withColumnRenamed('elevation_ft', 'destination_airport_elevation_ft')\n",
    "             .withColumnRenamed('iso_region', 'destination_airport_region')\n",
    "             .withColumnRenamed('municipality', 'destination_airport_municipality')\n",
    "             .withColumnRenamed('gps_code', 'destination_airport_gps_code')\n",
    "             .withColumnRenamed('coordinates', 'destination_airport_coordinates'))\n",
    "joined_df.printSchema()"
   ]
  },
  {
   "cell_type": "markdown",
   "metadata": {},
   "source": [
    "**d. Top Ten Airports**\n",
    "\n",
    "Create a dataframe using only data from 2008. This dataframe will be a report of the top ten airports by the number of inbound passengers. This dataframe should contain the following fields:\n",
    "\n",
    "* Rank (1-10)\n",
    "* Name\n",
    "* IATA code\n",
    "* Total Inbound Passengers\n",
    "* Total Inbound Flights\n",
    "* Average Daily Passengers\n",
    "* Average Inbound Flights\n",
    "\n",
    "Show the results of this dataframe using the show method."
   ]
  },
  {
   "cell_type": "code",
   "execution_count": 8,
   "metadata": {},
   "outputs": [
    {
     "name": "stdout",
     "output_type": "stream",
     "text": [
      "+------------------------+------------------------+------------------------+---------------------+------------------------+-----------------------+\n",
      "|destination_airport_name|destination_airport_code|Total Inbound Passengers|Total Inbound Flights|Average Daily Passengers|Average Inbound Flights|\n",
      "+------------------------+------------------------+------------------------+---------------------+------------------------+-----------------------+\n",
      "|    Hartsfield Jackso...|                     ATL|                35452700|               392691|                 96865.3|                1072.93|\n",
      "|    Chicago O'Hare In...|                     ORD|                26398793|               356570|                72127.85|                 974.23|\n",
      "|    Dallas Fort Worth...|                     DFW|                22883558|               270243|                62523.38|                 738.37|\n",
      "|    Los Angeles Inter...|                     LAX|                19741782|               215000|                 53939.3|                 587.43|\n",
      "|    McCarran Internat...|                     LAS|                18262263|               164122|                49896.89|                 448.42|\n",
      "|    Phoenix Sky Harbo...|                     PHX|                17305718|               181259|                47283.38|                 495.24|\n",
      "|    Charlotte Douglas...|                     CLT|                15029559|               204604|                41064.37|                 559.03|\n",
      "|    George Bush Inter...|                     IAH|                14870717|               214245|                40630.37|                 585.37|\n",
      "|    Orlando Internati...|                     MCO|                14576070|               131328|                39825.33|                 358.82|\n",
      "|    Detroit Metropoli...|                     DTW|                14228887|               191910|                38876.74|                 524.34|\n",
      "+------------------------+------------------------+------------------------+---------------------+------------------------+-----------------------+\n",
      "only showing top 10 rows\n",
      "\n"
     ]
    }
   ],
   "source": [
    "top_10 = joined_df\\\n",
    ".where(\"flight_year = 2008\")\\\n",
    ".groupBy(\"destination_airport_name\", \"destination_airport_code\")\\\n",
    ".agg(sum(\"passengers\").alias('Total Inbound Passengers'), sum(\"flights\").alias('Total Inbound Flights'),\\\n",
    "     expr('round(sum(passengers)/366,2)').alias('Average Daily Passengers'), expr('round(sum(flights)/366,2)').alias('Average Inbound Flights'))\\\n",
    ".orderBy(desc('Total Inbound Passengers'))\\\n",
    ".show(10)"
   ]
  },
  {
   "cell_type": "markdown",
   "metadata": {},
   "source": [
    "**e. User Defined Functions**\n",
    "\n",
    "The latitude and longitude coordinates for the destination and origin airports are string values and not numeric. You will create a user-defined function in Python that will convert the string coordinates into numeric coordinates.\n",
    "\n",
    "Add new columns for destination_airport_longitude, destination_airport_latitude, origin_airport_longitude, and origin_airport_latitude."
   ]
  },
  {
   "cell_type": "code",
   "execution_count": 9,
   "metadata": {},
   "outputs": [],
   "source": [
    "from pyspark.sql.functions import udf\n",
    "\n",
    "@udf('double')\n",
    "def get_latitude(coordinates):\n",
    "    split_coords = coordinates.split(',')\n",
    "    if len(split_coords) != 2:\n",
    "        return None\n",
    "\n",
    "    return float(split_coords[0].strip())\n",
    "\n",
    "\n",
    "@udf('double')\n",
    "def get_longitude(coordinates):\n",
    "    split_coords = coordinates.split(',')\n",
    "    if len(split_coords) != 2:\n",
    "        return None\n",
    "\n",
    "    return float(split_coords[1].strip())\n",
    "\n",
    "joined_df = joined_df.withColumn(\n",
    "  'destination_airport_longitude',\n",
    "  get_longitude(joined_df['destination_airport_coordinates'])\n",
    ").withColumn(\n",
    "  'destination_airport_latitude',\n",
    "  get_latitude(joined_df['destination_airport_coordinates'])\n",
    ").withColumn(\n",
    "  'origin_airport_longitude',\n",
    "  get_longitude(joined_df['origin_airport_coordinates'])\n",
    ").withColumn(\n",
    "  'origin_airport_latitude',\n",
    "  get_latitude(joined_df['origin_airport_coordinates'])\n",
    ")"
   ]
  },
  {
   "cell_type": "code",
   "execution_count": 10,
   "metadata": {},
   "outputs": [
    {
     "name": "stdout",
     "output_type": "stream",
     "text": [
      "root\n",
      " |-- origin_airport_code: string (nullable = true)\n",
      " |-- destination_airport_code: string (nullable = true)\n",
      " |-- origin_city: string (nullable = true)\n",
      " |-- destination_city: string (nullable = true)\n",
      " |-- passengers: long (nullable = true)\n",
      " |-- seats: long (nullable = true)\n",
      " |-- flights: long (nullable = true)\n",
      " |-- distance: double (nullable = true)\n",
      " |-- origin_population: long (nullable = true)\n",
      " |-- destination_population: long (nullable = true)\n",
      " |-- flight_year: long (nullable = true)\n",
      " |-- flight_month: long (nullable = true)\n",
      " |-- origin_airport_type: string (nullable = true)\n",
      " |-- origin_airport_name: string (nullable = true)\n",
      " |-- origin_airport_elevation_ft: double (nullable = true)\n",
      " |-- origin_airport_region: string (nullable = true)\n",
      " |-- origin_airport_municipality: string (nullable = true)\n",
      " |-- origin_airport_gps_code: string (nullable = true)\n",
      " |-- origin_airport_coordinates: string (nullable = true)\n",
      " |-- destination_airport_type: string (nullable = true)\n",
      " |-- destination_airport_name: string (nullable = true)\n",
      " |-- destination_airport_elevation_ft: double (nullable = true)\n",
      " |-- destination_airport_region: string (nullable = true)\n",
      " |-- destination_airport_municipality: string (nullable = true)\n",
      " |-- destination_airport_gps_code: string (nullable = true)\n",
      " |-- destination_airport_coordinates: string (nullable = true)\n",
      " |-- destination_airport_longitude: double (nullable = true)\n",
      " |-- destination_airport_latitude: double (nullable = true)\n",
      " |-- origin_airport_longitude: double (nullable = true)\n",
      " |-- origin_airport_latitude: double (nullable = true)\n",
      "\n"
     ]
    }
   ],
   "source": [
    "joined_df.printSchema()"
   ]
  }
 ],
 "metadata": {
  "kernelspec": {
   "display_name": "Python 3",
   "language": "python",
   "name": "python3"
  },
  "language_info": {
   "codemirror_mode": {
    "name": "ipython",
    "version": 3
   },
   "file_extension": ".py",
   "mimetype": "text/x-python",
   "name": "python",
   "nbconvert_exporter": "python",
   "pygments_lexer": "ipython3",
   "version": "3.7.4"
  }
 },
 "nbformat": 4,
 "nbformat_minor": 4
}
