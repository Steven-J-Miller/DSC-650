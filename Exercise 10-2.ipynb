{
 "cells": [
  {
   "cell_type": "markdown",
   "metadata": {},
   "source": [
    "## Steven Miller\n",
    "## DSC 650\n",
    "## 2020-02-14\n",
    "\n",
    "### 10.2 Programming Exercise: Fit a Binary Logistic Regression Model to a Dataset"
   ]
  },
  {
   "cell_type": "markdown",
   "metadata": {},
   "source": [
    "1. Build a Classification Model\n",
    "\n",
    "In this exercise, you will fit a binary logistic regression model to the baby name dataset you used in the previous exercise. This model will predict the sex of a person based on their age, name, and state they were born in. To train the model, you will use the data found in baby-names/names-classifier.\n",
    "\n",
    "a. Prepare in Input Features\n",
    "\n",
    "First, you will need to prepare each of the input features. While age is a numeric feature, state and name are not. These need to be converted into numeric vectors before you can train the model. Use a StringIndexer along with the OneHotEncoderEstimator to convert the name, state, and sex columns into numeric vectors. Use the VectorAssembler to combine the name, state, and age vectors into a single features vector. Your final dataset should contain a column called features containing the prepared vector and a column called label containing the sex of the person."
   ]
  },
  {
   "cell_type": "code",
   "execution_count": 1,
   "metadata": {},
   "outputs": [],
   "source": [
    "from pyspark.sql import SparkSession\n",
    "from pyspark.ml import Pipeline\n",
    "from pyspark.ml.feature import OneHotEncoderEstimator, StringIndexer, VectorAssembler\n",
    "from pyspark.ml.classification import LogisticRegression\n",
    "\n",
    "spark = SparkSession.builder.appName('Exercise10').getOrCreate()\n",
    "df = spark.read.parquet(\"../baby-names/names_classifier/\")"
   ]
  },
  {
   "cell_type": "code",
   "execution_count": 2,
   "metadata": {},
   "outputs": [],
   "source": [
    "from pyspark.ml import Pipeline\n",
    "from pyspark.ml.feature import OneHotEncoderEstimator, StringIndexer, VectorAssembler\n",
    "categoricalColumns = [\"state\", \"name\", \"sex\"]\n",
    "stages = [] # stages in our Pipeline\n",
    "for categoricalCol in categoricalColumns:\n",
    "    # Category Indexing with StringIndexer\n",
    "    stringIndexer = StringIndexer(inputCol=categoricalCol, outputCol=categoricalCol + \"Index\")\n",
    "    # Use OneHotEncoder to convert categorical variables into binary SparseVectors\n",
    "    # encoder = OneHotEncoderEstimator(inputCol=categoricalCol + \"Index\", outputCol=categoricalCol + \"classVec\")\n",
    "    encoder = OneHotEncoderEstimator(inputCols=[stringIndexer.getOutputCol()], outputCols=[categoricalCol + \"classVec\"])\n",
    "    # Add stages.  These are not run here, but will run all at once later on.\n",
    "    stages += [stringIndexer, encoder]\n",
    "\n",
    "label_stringIdx = StringIndexer(inputCol=\"sex\", outputCol=\"label\")\n",
    "stages += [label_stringIdx]\n",
    "\n",
    "numericCols = [\"age\"]\n",
    "assemblerInputs = [\"stateclassVec\",\"nameclassVec\"]+ numericCols\n",
    "assembler = VectorAssembler(inputCols=assemblerInputs, outputCol=\"features\")\n",
    "stages += [assembler]"
   ]
  },
  {
   "cell_type": "code",
   "execution_count": 3,
   "metadata": {},
   "outputs": [],
   "source": [
    "partialPipeline = Pipeline().setStages(stages)\n",
    "pipelineModel = partialPipeline.fit(df)\n",
    "preppedDataDF = pipelineModel.transform(df)"
   ]
  },
  {
   "cell_type": "code",
   "execution_count": 4,
   "metadata": {},
   "outputs": [
    {
     "name": "stdout",
     "output_type": "stream",
     "text": [
      "+------+-----+---+---+----------+--------------+---------+-----------------+--------+-------------+-----+--------------------+\n",
      "|  name|state|sex|age|stateIndex| stateclassVec|nameIndex|     nameclassVec|sexIndex|  sexclassVec|label|            features|\n",
      "+------+-----+---+---+----------+--------------+---------+-----------------+--------+-------------+-----+--------------------+\n",
      "|Joseph|   PA|  M| 26|       3.0|(50,[3],[1.0])|      8.0|(31313,[8],[1.0])|     0.0|(1,[0],[1.0])|  0.0|(31364,[3,58,3136...|\n",
      "|Joseph|   PA|  M| 26|       3.0|(50,[3],[1.0])|      8.0|(31313,[8],[1.0])|     0.0|(1,[0],[1.0])|  0.0|(31364,[3,58,3136...|\n",
      "|Joseph|   PA|  M| 26|       3.0|(50,[3],[1.0])|      8.0|(31313,[8],[1.0])|     0.0|(1,[0],[1.0])|  0.0|(31364,[3,58,3136...|\n",
      "|Joseph|   PA|  M| 26|       3.0|(50,[3],[1.0])|      8.0|(31313,[8],[1.0])|     0.0|(1,[0],[1.0])|  0.0|(31364,[3,58,3136...|\n",
      "|Joseph|   PA|  M| 26|       3.0|(50,[3],[1.0])|      8.0|(31313,[8],[1.0])|     0.0|(1,[0],[1.0])|  0.0|(31364,[3,58,3136...|\n",
      "|Joseph|   PA|  M| 26|       3.0|(50,[3],[1.0])|      8.0|(31313,[8],[1.0])|     0.0|(1,[0],[1.0])|  0.0|(31364,[3,58,3136...|\n",
      "|Joseph|   PA|  M| 26|       3.0|(50,[3],[1.0])|      8.0|(31313,[8],[1.0])|     0.0|(1,[0],[1.0])|  0.0|(31364,[3,58,3136...|\n",
      "|Joseph|   PA|  M| 26|       3.0|(50,[3],[1.0])|      8.0|(31313,[8],[1.0])|     0.0|(1,[0],[1.0])|  0.0|(31364,[3,58,3136...|\n",
      "|Joseph|   PA|  M| 26|       3.0|(50,[3],[1.0])|      8.0|(31313,[8],[1.0])|     0.0|(1,[0],[1.0])|  0.0|(31364,[3,58,3136...|\n",
      "|Joseph|   PA|  M| 26|       3.0|(50,[3],[1.0])|      8.0|(31313,[8],[1.0])|     0.0|(1,[0],[1.0])|  0.0|(31364,[3,58,3136...|\n",
      "|Joseph|   PA|  M| 26|       3.0|(50,[3],[1.0])|      8.0|(31313,[8],[1.0])|     0.0|(1,[0],[1.0])|  0.0|(31364,[3,58,3136...|\n",
      "|Joseph|   PA|  M| 26|       3.0|(50,[3],[1.0])|      8.0|(31313,[8],[1.0])|     0.0|(1,[0],[1.0])|  0.0|(31364,[3,58,3136...|\n",
      "|Joseph|   PA|  M| 26|       3.0|(50,[3],[1.0])|      8.0|(31313,[8],[1.0])|     0.0|(1,[0],[1.0])|  0.0|(31364,[3,58,3136...|\n",
      "|Joseph|   PA|  M| 26|       3.0|(50,[3],[1.0])|      8.0|(31313,[8],[1.0])|     0.0|(1,[0],[1.0])|  0.0|(31364,[3,58,3136...|\n",
      "|Joseph|   PA|  M| 26|       3.0|(50,[3],[1.0])|      8.0|(31313,[8],[1.0])|     0.0|(1,[0],[1.0])|  0.0|(31364,[3,58,3136...|\n",
      "|Joseph|   PA|  M| 26|       3.0|(50,[3],[1.0])|      8.0|(31313,[8],[1.0])|     0.0|(1,[0],[1.0])|  0.0|(31364,[3,58,3136...|\n",
      "|Joseph|   PA|  M| 26|       3.0|(50,[3],[1.0])|      8.0|(31313,[8],[1.0])|     0.0|(1,[0],[1.0])|  0.0|(31364,[3,58,3136...|\n",
      "|Joseph|   PA|  M| 26|       3.0|(50,[3],[1.0])|      8.0|(31313,[8],[1.0])|     0.0|(1,[0],[1.0])|  0.0|(31364,[3,58,3136...|\n",
      "|Joseph|   PA|  M| 26|       3.0|(50,[3],[1.0])|      8.0|(31313,[8],[1.0])|     0.0|(1,[0],[1.0])|  0.0|(31364,[3,58,3136...|\n",
      "|Joseph|   PA|  M| 26|       3.0|(50,[3],[1.0])|      8.0|(31313,[8],[1.0])|     0.0|(1,[0],[1.0])|  0.0|(31364,[3,58,3136...|\n",
      "+------+-----+---+---+----------+--------------+---------+-----------------+--------+-------------+-----+--------------------+\n",
      "only showing top 20 rows\n",
      "\n"
     ]
    }
   ],
   "source": [
    "preppedDataDF.show()"
   ]
  },
  {
   "cell_type": "markdown",
   "metadata": {},
   "source": [
    "2. Fit and Evaluate the Model\n",
    "\n",
    "Fit the model as a logistic regression model with the following parameters. LogisticRegression(maxIter=10, regParam=0.3, elasticNetParam=0.8). Provide the area under the ROC curve for the model."
   ]
  },
  {
   "cell_type": "markdown",
   "metadata": {},
   "source": [
    "**Using Suggested Parameters**"
   ]
  },
  {
   "cell_type": "code",
   "execution_count": 5,
   "metadata": {},
   "outputs": [],
   "source": [
    "lrModel = LogisticRegression(maxIter=10, regParam=0.3, elasticNetParam=0.8).fit(preppedDataDF)"
   ]
  },
  {
   "cell_type": "code",
   "execution_count": 6,
   "metadata": {},
   "outputs": [
    {
     "data": {
      "text/plain": [
       "<Figure size 640x480 with 1 Axes>"
      ]
     },
     "metadata": {},
     "output_type": "display_data"
    }
   ],
   "source": [
    "import matplotlib.pyplot as plt\n",
    "\n",
    "trainingSummary = lrModel.summary\n",
    "\n",
    "roc = trainingSummary.roc.toPandas()\n",
    "plt.plot(roc['FPR'],roc['TPR'])\n",
    "plt.ylabel('False Positive Rate')\n",
    "plt.xlabel('True Positive Rate')\n",
    "plt.title('ROC Curve')\n",
    "plt.show()"
   ]
  },
  {
   "cell_type": "code",
   "execution_count": 7,
   "metadata": {},
   "outputs": [
    {
     "name": "stdout",
     "output_type": "stream",
     "text": [
      "Area Under ROC: 0.5\n"
     ]
    }
   ],
   "source": [
    "print('Area Under ROC: ' + str(trainingSummary.areaUnderROC))"
   ]
  },
  {
   "cell_type": "markdown",
   "metadata": {},
   "source": [
    "**Using Default Parameters**"
   ]
  },
  {
   "cell_type": "code",
   "execution_count": 8,
   "metadata": {},
   "outputs": [],
   "source": [
    "lrModel = LogisticRegression(maxIter=10).fit(preppedDataDF)"
   ]
  },
  {
   "cell_type": "code",
   "execution_count": 9,
   "metadata": {},
   "outputs": [
    {
     "data": {
      "image/png": "[encoded data removed]",
      "text/plain": [
       "<Figure size 432x288 with 1 Axes>"
      ]
     },
     "metadata": {
      "needs_background": "light"
     },
     "output_type": "display_data"
    }
   ],
   "source": [
    "import matplotlib.pyplot as plt\n",
    "\n",
    "trainingSummary = lrModel.summary\n",
    "\n",
    "roc = trainingSummary.roc.toPandas()\n",
    "plt.plot(roc['FPR'],roc['TPR'])\n",
    "plt.ylabel('False Positive Rate')\n",
    "plt.xlabel('True Positive Rate')\n",
    "plt.title('ROC Curve')\n",
    "plt.show()"
   ]
  },
  {
   "cell_type": "code",
   "execution_count": 10,
   "metadata": {},
   "outputs": [
    {
     "name": "stdout",
     "output_type": "stream",
     "text": [
      "Area Under ROC: 0.9984531306956779\n"
     ]
    }
   ],
   "source": [
    "print('Area Under ROC: ' + str(trainingSummary.areaUnderROC))"
   ]
  }
 ],
 "metadata": {
  "kernelspec": {
   "display_name": "Python 3",
   "language": "python",
   "name": "python3"
  },
  "language_info": {
   "codemirror_mode": {
    "name": "ipython",
    "version": 3
   },
   "file_extension": ".py",
   "mimetype": "text/x-python",
   "name": "python",
   "nbconvert_exporter": "python",
   "pygments_lexer": "ipython3",
   "version": "3.7.4"
  }
 },
 "nbformat": 4,
 "nbformat_minor": 4
}
